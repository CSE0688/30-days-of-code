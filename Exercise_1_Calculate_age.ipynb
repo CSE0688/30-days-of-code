{
 "cells": [
  {
   "cell_type": "code",
   "execution_count": null,
   "metadata": {},
   "outputs": [],
   "source": [
    "import datetime\n",
    "print(\"Enter your name\")\n",
    "name=input()\n",
    "print(\"Enter your age\")\n",
    "age=int(input())\n",
    "na=100-age\n",
    "x=datetime.datetime.now()\n",
    "y=x.year\n",
    "print(\"Number of times you want to print\")\n",
    "n=int(input())\n",
    "for i in range(n):\n",
    "    print(\"hello\",name,\" you will turn 100 in \",y+a)"
   ]
  }
 ],
 "metadata": {
  "kernelspec": {
   "display_name": "Python 3",
   "language": "python",
   "name": "python3"
  },
  "language_info": {
   "codemirror_mode": {
    "name": "ipython",
    "version": 3
   },
   "file_extension": ".py",
   "mimetype": "text/x-python",
   "name": "python",
   "nbconvert_exporter": "python",
   "pygments_lexer": "ipython3",
   "version": "3.8.3"
  }
 },
 "nbformat": 4,
 "nbformat_minor": 4
}
