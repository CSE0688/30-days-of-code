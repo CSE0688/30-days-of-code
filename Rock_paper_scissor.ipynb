{
 "cells": [
  {
   "cell_type": "code",
   "execution_count": 2,
   "metadata": {},
   "outputs": [
    {
     "name": "stdout",
     "output_type": "stream",
     "text": [
      "rock, paper, scissor?rock\n"
     ]
    }
   ],
   "source": [
    "\"\"\"Rock as 1,paper as 2,scissors as 3\n",
    "in rock,paper,scissor rock>scissor,,scissor>paper,,paper>rock\"\"\"\n",
    "\n",
    "import random\n",
    "a=[\"rock\",\"paper\",\"scissor\"]\n",
    "com=a[random.randint(0,2)]\n",
    "\n",
    "player=False #setting player as false for the while loop\n",
    "\n",
    "while player==False: #the game wil continue till player becomes True \n",
    "    player=input(\"rock, paper, scissor?\")\n",
    "    if com==player:\n",
    "        print('its a tie! try again')\n",
    "    elif player==\"rock\":\n",
    "        if com==\"paper\":\n",
    "            print(\"You lose!\", com, \"covers\", player)\n",
    "    elif player==\"paper\":\n",
    "        if com==\"scissor\":\n",
    "            print(\"You lose!\", com, \"cuts\", player)\n",
    "    elif player==\"scissor\":\n",
    "        if com==\"rock\":\n",
    "            print(\"you lose!\", com, \"breaks\", player)     \n",
    "    elif com==\"rock\":\n",
    "        if player==\"paper\":\n",
    "            print(\"You win!\", player, \"covers\",com)\n",
    "    elif com==\"paper\":\n",
    "        if player==\"scissor\":\n",
    "            print(\"You win!\", player,\"cuts\", com)\n",
    "    elif com==\"scissor\":\n",
    "        if player==\"rock\":\n",
    "            print(\"you win!\", player, \"breaks\", com)"
   ]
  }
 ],
 "metadata": {
  "kernelspec": {
   "display_name": "Python 3",
   "language": "python",
   "name": "python3"
  },
  "language_info": {
   "codemirror_mode": {
    "name": "ipython",
    "version": 3
   },
   "file_extension": ".py",
   "mimetype": "text/x-python",
   "name": "python",
   "nbconvert_exporter": "python",
   "pygments_lexer": "ipython3",
   "version": "3.8.3"
  }
 },
 "nbformat": 4,
 "nbformat_minor": 4
}
