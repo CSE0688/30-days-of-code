{
 "cells": [
  {
   "cell_type": "code",
   "execution_count": 3,
   "metadata": {},
   "outputs": [],
   "source": [
    "import random\n",
    "number=random.randint(1,9)\n",
    "guess=0\n",
    "count=0\n",
    "\n",
    "while number!=number and guess!='exit':\n",
    "    guess=int(input(\"Whats your guess? OR if you want to quit type 'exit'\"))\n",
    "    if(guess=='exit'):\n",
    "        print(\"number of trials taken\",count)\n",
    "        print(\"the number was\",number)\n",
    "        break\n",
    "    guess=int(guess)\n",
    "    count+=1   \n",
    "    if(guess<number):\n",
    "        print(\"to low, try again\")\n",
    "    elif(guess>number):\n",
    "        print(\"to high,try again\")\n",
    "    else:\n",
    "        print(\"success\")\n",
    "        print(\"\\nit took you\",count,\"trials to find the number\")"
   ]
  },
  {
   "cell_type": "code",
   "execution_count": null,
   "metadata": {},
   "outputs": [],
   "source": [
    "5\n"
   ]
  }
 ],
 "metadata": {
  "kernelspec": {
   "display_name": "Python 3",
   "language": "python",
   "name": "python3"
  },
  "language_info": {
   "codemirror_mode": {
    "name": "ipython",
    "version": 3
   },
   "file_extension": ".py",
   "mimetype": "text/x-python",
   "name": "python",
   "nbconvert_exporter": "python",
   "pygments_lexer": "ipython3",
   "version": "3.8.3"
  }
 },
 "nbformat": 4,
 "nbformat_minor": 4
}
